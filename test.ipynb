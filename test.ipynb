{
 "cells": [
  {
   "cell_type": "code",
   "execution_count": 1,
   "metadata": {},
   "outputs": [],
   "source": [
    "import yaml\n",
    "import argparse\n",
    "\n",
    "path =\"./configs/default.yaml\""
   ]
  },
  {
   "cell_type": "code",
   "execution_count": 2,
   "metadata": {},
   "outputs": [],
   "source": [
    "with open(path, \"r\") as f:\n",
    "    data = yaml.load(f, Loader=yaml.SafeLoader)"
   ]
  },
  {
   "cell_type": "code",
   "execution_count": 10,
   "metadata": {},
   "outputs": [],
   "source": [
    "def setup_parse():\n",
    "    parser = argparse.ArgumentParser()\n",
    "\n",
    "    parser.add_argument(\"--cfg\", type=int, required= True, help=\"path to config file\")\n",
    "\n",
    "    parser.add_argument(\"--model\", \n",
    "                        type=str, help=\"Type of Swin model\")\n",
    "    \n",
    "    parser.add_argument(\"--name\", type=int)\n",
    "\n",
    "    # config datasets\n",
    "    parser.add_argument(\"--data\", type=str, default=\"cifar10\")\n",
    "\n",
    "    parser.add_argument(\"--imgsz\",  type=int)\n",
    "    \n",
    "    parser.add_argument(\"--in_chans\", type=int)\n",
    "    \n",
    "    parser.add_argument(\"--labels\",  \n",
    "                        type=int, help=\"Number of classes\")\n",
    "    \n",
    "    parser.add_argument(\"--patch_size\", \n",
    "                        type=int, help=\"Size of image patch\")\n",
    "    \n",
    "    parser.add_argument(\"--dataset-dir\", type=str)\n",
    "    \n",
    "    parser.add_argument(\"--annotated-file\", type=str)\n",
    "\n",
    "    \n",
    "    # config model\n",
    "    parser.add_argument(\"--num-heads\", \n",
    "                        type=list, help=\"Number of attention heads\")\n",
    "    \n",
    "    parser.add_argument(\"--embed-dim\", \n",
    "                        type=int, help=\"Size of each attention head for value\")\n",
    "    \n",
    "    parser.add_argument(\"--depths\", \n",
    "                        type=list, help=\"number of transformer layers\")\n",
    "    \n",
    "    parser.add_argument(\"--window_size\", type=int)\n",
    "    \n",
    "    parser.add_argument(\"--mlp-ratio\", \n",
    "                        type=int)\n",
    "    \n",
    "    parser.add_argument(\"--qkv_bias\", type=bool)\n",
    "    \n",
    "    parser.add_argument(\"--ape\", type=bool)\n",
    "\n",
    "    parser.add_argument(\"use-pos-rel\", type=bool, default=True)\n",
    "\n",
    "    parser.add_argument(\"--dropout\", type=float)\n",
    "    \n",
    "    parser.add_argument(\"--norm-eps\", type=float)\n",
    "\n",
    "\n",
    "    # config training\n",
    "    parser.add_argument(\"--epochs\", type=int)\n",
    "\n",
    "    parser.add_argument(\"--batch\", type=int)\n",
    "\n",
    "    parser.add_argument(\"--devices\", type=str)\n",
    "\n",
    "    parser.add_argument(\"--optimizer\", type=int)\n",
    "\n",
    "    parser.add_argument(\"--weight-decay\", type=float)\n",
    "\n",
    "    parser.add_argument(\"--lr\", type=float, help=\"Learning rate\")\n",
    "\n",
    "    parser.add_argument(\"--beta1\", type=float)\n",
    "    \n",
    "    parser.add_argument(\"--beta2\", type=float)\n",
    "    \n",
    "    parser.add_argument(\"--eps\", type=float)\n",
    "    \n",
    "    parser.add_argument(\"--outputs-dir\", type=str)\n",
    "    \n",
    "    parser.add_argument(\"--logger\", type=str)\n",
    "    \n",
    "    return parser\n"
   ]
  },
  {
   "cell_type": "code",
   "execution_count": 11,
   "metadata": {},
   "outputs": [],
   "source": [
    "parser = setup_parse()"
   ]
  },
  {
   "cell_type": "code",
   "execution_count": 12,
   "metadata": {},
   "outputs": [
    {
     "data": {
      "text/plain": [
       "{'model': 'base',\n",
       " 'name': 'swin_patch4_window7_224',\n",
       " 'data': 'cifar10',\n",
       " 'in_chans': 3,\n",
       " 'imgsz': 224,\n",
       " 'labels': 10,\n",
       " 'patch_size': 4,\n",
       " 'nheads': [3, 6, 12, 24],\n",
       " 'embed_dim': 96,\n",
       " 'depths': [2, 2, 6, 2],\n",
       " 'window_size': 7,\n",
       " 'mlp_ratio': 4,\n",
       " 'qkv_bias': True,\n",
       " 'ape': True,\n",
       " 'use_pos_rel': True,\n",
       " 'drop_out': 0.1,\n",
       " 'norm_eps': '1e-12',\n",
       " 'epochs': 10,\n",
       " 'batch': 16,\n",
       " 'devices': 'cuda',\n",
       " 'optimizer': 'Adam',\n",
       " 'weight_decay': 0.05,\n",
       " 'lr': 0.001,\n",
       " 'beta1': 0.9,\n",
       " 'beta2': 0.999,\n",
       " 'eps': '1e-8',\n",
       " 'outputs_dir': './outputs',\n",
       " 'logger': 'wandb'}"
      ]
     },
     "execution_count": 12,
     "metadata": {},
     "output_type": "execute_result"
    }
   ],
   "source": [
    "data"
   ]
  },
  {
   "cell_type": "code",
   "execution_count": 13,
   "metadata": {},
   "outputs": [
    {
     "name": "stdout",
     "output_type": "stream",
     "text": [
      "Namespace(model='base', name='swin_patch4_window7_224', data='cifar10', in_chans=3, imgsz=224, labels=10, patch_size=4, nheads=[3, 6, 12, 24], embed_dim=96, depths=[2, 2, 6, 2], window_size=7, mlp_ratio=4, qkv_bias=True, ape=True, use_pos_rel=True, drop_out=0.1, norm_eps='1e-12', epochs=10, batch=16, devices='cuda', optimizer='Adam', weight_decay=0.05, lr=0.001, beta1=0.9, beta2=0.999, eps='1e-8', outputs_dir='./outputs', logger='wandb')\n"
     ]
    }
   ],
   "source": [
    "cfg = argparse.Namespace(**data)\n",
    "print(cfg)\n"
   ]
  },
  {
   "cell_type": "code",
   "execution_count": null,
   "metadata": {},
   "outputs": [],
   "source": []
  }
 ],
 "metadata": {
  "kernelspec": {
   "display_name": "pytorch",
   "language": "python",
   "name": "python3"
  },
  "language_info": {
   "codemirror_mode": {
    "name": "ipython",
    "version": 3
   },
   "file_extension": ".py",
   "mimetype": "text/x-python",
   "name": "python",
   "nbconvert_exporter": "python",
   "pygments_lexer": "ipython3",
   "version": "3.10.14"
  }
 },
 "nbformat": 4,
 "nbformat_minor": 2
}
